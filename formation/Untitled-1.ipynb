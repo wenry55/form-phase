{
 "cells": [
  {
   "cell_type": "code",
   "execution_count": null,
   "metadata": {},
   "outputs": [],
   "source": []
  }
 ],
 "metadata": {
  "kernelspec": {
   "display_name": "Python 3.8.13 ('pycr1')",
   "language": "python",
   "name": "python3"
  },
  "language_info": {
   "name": "python",
   "version": "3.8.13"
  },
  "orig_nbformat": 4,
  "vscode": {
   "interpreter": {
    "hash": "6b29914a1eaec429a3e3773f905f210f4636e26c05549193aa86577ff17f07fb"
   }
  }
 },
 "nbformat": 4,
 "nbformat_minor": 2
}
